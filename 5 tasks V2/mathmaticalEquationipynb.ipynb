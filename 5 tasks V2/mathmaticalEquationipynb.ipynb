{
 "cells": [
  {
   "cell_type": "code",
   "execution_count": 2,
   "metadata": {},
   "outputs": [
    {
     "ename": "SyntaxError",
     "evalue": "'(' was never closed (2590314368.py, line 12)",
     "output_type": "error",
     "traceback": [
      "\u001b[1;36m  Cell \u001b[1;32mIn[2], line 12\u001b[1;36m\u001b[0m\n\u001b[1;33m    x_range = np.linspace(-2 * np.pi, 2 * np.pi, 400\u001b[0m\n\u001b[1;37m                         ^\u001b[0m\n\u001b[1;31mSyntaxError\u001b[0m\u001b[1;31m:\u001b[0m '(' was never closed\n"
     ]
    }
   ],
   "source": [
    "import numpy as np\n",
    "import matplotlib.pyplot as plt\n",
    "\n",
    "\n",
    "\n",
    "\n",
    "# Function 1: sqrt(2)e^(-x^2) + 2cos(2x + π/6)\n",
    "x = np.linspace(-2 * np.pi, 2 * np.pi,388)\n",
    "\n",
    "# range of x \n",
    "x_range = np.linspace(-2 * np.pi, 2 * np.pi, 400)\n",
    "\n",
    "# function y\n",
    "y = np.sqrt(2) * np.exp(-x**2) + 2 * np.cos(2 *x + np.pi / 8)\n",
    "\n",
    "# plotting the function\n",
    "plt.figure(figsize=(12,8))\n",
    "plt.plot(x, y, label=r\"$y = \\sqrt{2}e^{-x^2} + 2\\cos(2x + \\frac{\\pi}{8})$\")\n",
    "plt.title(\"Plot of Function 1: Combination of Exponential and Cosine\")\n",
    "plt.xlabel(\"x\")\n",
    "plt.ylabel(\"y\")\n",
    "plt.legend()\n",
    "plt.grid(True)\n",
    "plt.show()\n",
    "\n"
   ]
  },
  {
   "cell_type": "markdown",
   "metadata": {},
   "source": [
    "#### step 2: input\n",
    "\n",
    "next we tell the user to enter a number greater than 300 if the user enters a number below the user will recive and error message and will get told to enter a number greater than 300"
   ]
  },
  {
   "cell_type": "code",
   "execution_count": null,
   "metadata": {},
   "outputs": [],
   "source": [
    "# Step ii: Accept a number greater than 300\n",
    "varLength = 0  # Initialize varLength with a value smaller than 300\n",
    "\n",
    "#  creating a Loop \n",
    "while varLength <= 300:\n",
    "    try:\n",
    "        varLength = int(input(\" please enter a number bigger than 300: \"))\n",
    "        if varLength <= 300:\n",
    "            print(\"The number must be greater than 300. Please try again.\")\n",
    "    except ValueError:\n",
    "        print(\"Invalid input. no letters and it must be larger than 300.\")\n"
   ]
  },
  {
   "cell_type": "markdown",
   "metadata": {},
   "source": [
    "#### Step iii: Sum of Digits\n",
    "\n",
    "We then calculate the sum of all digits in `myID` and store it in a variable called `randSeedNum`. This sum will be used as a seed for generating random numbers.\n"
   ]
  },
  {
   "cell_type": "code",
   "execution_count": null,
   "metadata": {},
   "outputs": [],
   "source": [
    "import random\n",
    "\n",
    "# Step iv: Use randSeedNum as the seed for random number generation\n",
    "random.seed(randSeedNum)\n",
    "\n",
    "# Generate a list of random integers of length varLength\n",
    "random_list = [random.randint(1, 100) for _ in range(varLength)]\n",
    "print(f\"Generated list of {varLength} random integers.\")\n"
   ]
  },
  {
   "cell_type": "markdown",
   "metadata": {},
   "source": [
    "#### Step v: Histogram and Analysis\n",
    "\n",
    "Finally, this will create a holigram that distribute the numbers randomly to mean,median to understand patterns using the data\n"
   ]
  },
  {
   "cell_type": "code",
   "execution_count": null,
   "metadata": {},
   "outputs": [],
   "source": [
    "import numpy as np\n",
    "import matplotlib.pyplot as plt\n",
    "\n",
    "# Step v: Create a histogram of the random list\n",
    "plt.figure(figsize=(10, 6))\n",
    "plt.hist(random_list, bins=30, edgecolor='black')\n",
    "plt.title(\"create a list at random\")\n",
    "plt.xlabel(\"Value\")\n",
    "plt.ylabel(\"Frequency\")\n",
    "plt.grid(True)\n",
    "plt.show()\n",
    "\n",
    "# Calculate statistical properties\n",
    "mean_value = np.mean(random_list)\n",
    "median_value = np.median(random_list)\n",
    "\n",
    "# Determine skewness based on mean and median\n",
    "if mean_value > median_value:\n",
    "    skewness = \"Right skewed\"\n",
    "elif mean_value < median_value:\n",
    "    skewness = \"Left skewed\"\n",
    "else:\n",
    "    skewness = \"Symmetrical\"\n",
    "\n",
    "# Print statistical analysis\n",
    "print(f\"Mean: {mean_value}\")\n",
    "print(f\"Median: {median_value}\")\n",
    "print(f\"Skewness: {skewness}\")\n"
   ]
  },
  {
   "cell_type": "code",
   "execution_count": null,
   "metadata": {},
   "outputs": [],
   "source": [
    "# using my student numer\n",
    "\n",
    "myID = 2315539"
   ]
  },
  {
   "cell_type": "markdown",
   "metadata": {},
   "source": [
    "### Part 2: analysing data\n",
    "\n",
    "#### Step i: usinng my student number\n",
    "\n",
    "First, my student number to a variable named `myID`. This unique identifier will be used in the equation.\n"
   ]
  },
  {
   "cell_type": "markdown",
   "metadata": {},
   "source": [
    "### part 1: plotting Functions\n",
    "\n",
    "#### Function 1: \\( y = \\sqrt{2}e^{-x^2} + 2 \\cos \\left(2x + \\frac{\\pi}{6}\\right) \\)\n",
    "\n",
    "### this function V 2e -x squard  which decreases when x gets a larger number which means adjusts to whatever x is\n",
    "\n",
    "### second part 2cos(2x+pie devided by 6) which creates a wave pattern which is designed to adjust and change to whatever x is at the time\n"
   ]
  },
  {
   "cell_type": "markdown",
   "metadata": {},
   "source": [
    "\n"
   ]
  },
  {
   "cell_type": "markdown",
   "metadata": {},
   "source": []
  },
  {
   "cell_type": "markdown",
   "metadata": {},
   "source": []
  },
  {
   "cell_type": "markdown",
   "metadata": {},
   "source": []
  },
  {
   "cell_type": "markdown",
   "metadata": {},
   "source": [
    "### part 1: plotting Functions\n",
    "\n",
    "#### Function 1: \\( y = \\sqrt{2}e^{-x^2} + 2 \\cos \\left(2x + \\frac{\\pi}{6}\\right) \\)\n",
    "\n",
    "### this function V 2e -x squard  which decreases when x gets a larger number which means adjusts to whatever x is\n",
    "\n",
    "### second part 2cos(2x+pie devided by 6) which creates a wave pattern which is designed to adjust and change to whatever x is at the time\n",
    "\n"
   ]
  }
 ],
 "metadata": {
  "kernelspec": {
   "display_name": "Python 3",
   "language": "python",
   "name": "python3"
  },
  "language_info": {
   "codemirror_mode": {
    "name": "ipython",
    "version": 3
   },
   "file_extension": ".py",
   "mimetype": "text/x-python",
   "name": "python",
   "nbconvert_exporter": "python",
   "pygments_lexer": "ipython3",
   "version": "3.12.5"
  }
 },
 "nbformat": 4,
 "nbformat_minor": 2
}
